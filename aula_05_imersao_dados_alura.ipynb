{
  "nbformat": 4,
  "nbformat_minor": 0,
  "metadata": {
    "colab": {
      "name": "aula_05_imersao_dados_alura.ipynb",
      "provenance": [],
      "collapsed_sections": [
        "ljjh4pjjckiZ",
        "lN6YWp91ha5c",
        "38QsbMA1iP3B",
        "wbJEacy0ilo8",
        "rskRlTLki1kU",
        "KhKKB7sljxxF",
        "cdXFC4EQlB07",
        "lPkRrE1nmlAg",
        "Z-6VX9djnfcA",
        "qgItAXXsnpe5",
        "OOD46PWWoZkS",
        "7z2LQpZ2oxOj",
        "1l-Ghuz9pK6B",
        "YOLFjaJep8H8",
        "7eJq08KFvavW",
        "1guMfu8asqzN",
        "EjHMkvHm-qqg",
        "j0xBGIimBXV5",
        "MZAZTS7wKctx",
        "WYMiT1S1Kh_z",
        "LW08mWtULaOV"
      ],
      "toc_visible": true,
      "include_colab_link": true
    },
    "kernelspec": {
      "name": "python3",
      "display_name": "Python 3"
    }
  },
  "cells": [
    {
      "cell_type": "markdown",
      "metadata": {
        "id": "view-in-github",
        "colab_type": "text"
      },
      "source": [
        "<a href=\"https://colab.research.google.com/github/yanviegas/eu_na_imersao_dados_2020_2/blob/main/aula_05_imersao_dados_alura.ipynb\" target=\"_parent\"><img src=\"https://colab.research.google.com/assets/colab-badge.svg\" alt=\"Open In Colab\"/></a>"
      ]
    },
    {
      "cell_type": "markdown",
      "metadata": {
        "id": "wZS5Jt3OBG37"
      },
      "source": [
        "#Evento **IMERSÃO DADOS 2020.2**, organizado pela Alura Cursos Online\n",
        "\n",
        "O Projeto teve como objetivo entender na prática um pouco sobre as habilidades, o trabalho e a carreira do profissional da área de Ciência de Dados, usando como trilha a análise de uma amostra dos dados do ENEM 2019."
      ]
    },
    {
      "cell_type": "code",
      "metadata": {
        "id": "F3I24qkA5TYq"
      },
      "source": [
        "import pandas as pd\n",
        "import matplotlib.pyplot as plt\n",
        "import seaborn as sns\n",
        "fonte = \"https://github.com/alura-cursos/imersao-dados-2-2020/blob/master/MICRODADOS_ENEM_2019_SAMPLE_43278.csv?raw=true\"\n",
        "dados = pd.read_csv(fonte)\n",
        "provas = ['NU_NOTA_CN', 'NU_NOTA_CH', 'NU_NOTA_MT', 'NU_NOTA_LC', 'NU_NOTA_REDACAO']\n",
        "dados[\"NU_NOTA_SOMA_TOTAL\"] = dados[provas].sum(axis = 1)\n",
        "provas.append(\"NU_NOTA_SOMA_TOTAL\")\n",
        "dados_sem_notas_nulas = dados.query(\"NU_NOTA_SOMA_TOTAL != 0\")\n",
        "sem_nan_dados_sem_notas_nulas = dados_sem_notas_nulas[provas].dropna()\n",
        "provas_entrada = ['NU_NOTA_CN', 'NU_NOTA_CH', 'NU_NOTA_LC']\n",
        "provas_saida = ['NU_NOTA_MT']\n",
        "notas_entrada = sem_nan_dados_sem_notas_nulas[provas_entrada]\n",
        "notas_saida = sem_nan_dados_sem_notas_nulas[provas_saida]\n",
        "x = notas_entrada\n",
        "import numpy as np\n",
        "y = np.ravel(notas_saida)\n",
        "from sklearn.model_selection import train_test_split\n",
        "seed = 28\n",
        "x_tr, x_tes, y_tr, y_tes = train_test_split(x, y, test_size = 0.20, random_state = seed)"
      ],
      "execution_count": 2,
      "outputs": []
    },
    {
      "cell_type": "markdown",
      "metadata": {
        "id": "YxuJ9x57YcE0"
      },
      "source": [
        "#**AULA 05: VALIDAÇÃO DE MODELO E OVERFITTING**"
      ]
    },
    {
      "cell_type": "code",
      "metadata": {
        "id": "HJdMYgZWnamE",
        "outputId": "86f0fb6b-6226-4f19-8d9d-7bbfb188456d",
        "colab": {
          "base_uri": "https://localhost:8080/",
          "height": 105
        }
      },
      "source": [
        "from sklearn.svm import LinearSVR\n",
        "seed = 28\n",
        "modelo = LinearSVR(random_state = seed)\n",
        "modelo.fit(x_tr, y_tr)\n",
        "predictions_mt_2 = modelo.predict(x_tes)\n",
        "predictions_mt_2"
      ],
      "execution_count": 3,
      "outputs": [
        {
          "output_type": "stream",
          "text": [
            "/usr/local/lib/python3.6/dist-packages/sklearn/svm/_base.py:947: ConvergenceWarning: Liblinear failed to converge, increase the number of iterations.\n",
            "  \"the number of iterations.\", ConvergenceWarning)\n"
          ],
          "name": "stderr"
        },
        {
          "output_type": "execute_result",
          "data": {
            "text/plain": [
              "array([540.8382049 , 779.87834809, 677.40207144, ..., 645.77093984,\n",
              "       695.97629947, 639.91234836])"
            ]
          },
          "metadata": {
            "tags": []
          },
          "execution_count": 3
        }
      ]
    },
    {
      "cell_type": "code",
      "metadata": {
        "id": "CwOp76f-CfQD",
        "outputId": "120d2e44-eeeb-4be7-9da6-8fa79109c474",
        "colab": {
          "base_uri": "https://localhost:8080/",
          "height": 34
        }
      },
      "source": [
        "from sklearn.metrics import mean_squared_error\n",
        "mean_squared_error(y_tes, predictions_mt_2)"
      ],
      "execution_count": 5,
      "outputs": [
        {
          "output_type": "execute_result",
          "data": {
            "text/plain": [
              "14678.163832448041"
            ]
          },
          "metadata": {
            "tags": []
          },
          "execution_count": 5
        }
      ]
    },
    {
      "cell_type": "code",
      "metadata": {
        "id": "-CcsAf7-Cij9",
        "outputId": "82b00078-4749-4981-eb17-6ddf98b77001",
        "colab": {
          "base_uri": "https://localhost:8080/",
          "height": 51
        }
      },
      "source": [
        "from sklearn.tree import DecisionTreeRegressor\n",
        "tree_modelo = DecisionTreeRegressor(max_depth = 4)\n",
        "tree_modelo.fit(x_tr, y_tr)\n",
        "tree_predictions = tree_modelo.predict(x_tes)\n",
        "tree_predictions"
      ],
      "execution_count": 6,
      "outputs": [
        {
          "output_type": "execute_result",
          "data": {
            "text/plain": [
              "array([451.70148172, 704.85340537, 553.050921  , ..., 553.050921  ,\n",
              "       585.70122825, 553.050921  ])"
            ]
          },
          "metadata": {
            "tags": []
          },
          "execution_count": 6
        }
      ]
    },
    {
      "cell_type": "code",
      "metadata": {
        "id": "wijA3FP1D1mL",
        "outputId": "f621a9e2-5885-4b8f-89c0-7ba04153ee59",
        "colab": {
          "base_uri": "https://localhost:8080/",
          "height": 34
        }
      },
      "source": [
        "mean_squared_error(y_tes, tree_predictions)"
      ],
      "execution_count": 7,
      "outputs": [
        {
          "output_type": "execute_result",
          "data": {
            "text/plain": [
              "5757.9253646651905"
            ]
          },
          "metadata": {
            "tags": []
          },
          "execution_count": 7
        }
      ]
    },
    {
      "cell_type": "code",
      "metadata": {
        "id": "zF9-WGq0EEQp",
        "outputId": "eb9b6e2d-0989-4496-e0bc-cdd19563ecd7",
        "colab": {
          "base_uri": "https://localhost:8080/",
          "height": 238
        }
      },
      "source": [
        "from sklearn.model_selection import cross_validate\n",
        "tree_modelo = DecisionTreeRegressor(max_depth=2)\n",
        "resultados = cross_validate(tree_modelo, x, y, cv = 20, scoring = \"neg_mean_squared_error\")\n",
        "resultados"
      ],
      "execution_count": 8,
      "outputs": [
        {
          "output_type": "execute_result",
          "data": {
            "text/plain": [
              "{'fit_time': array([0.05992675, 0.05775833, 0.06270957, 0.05552435, 0.05526018,\n",
              "        0.06167436, 0.06440473, 0.05638576, 0.05801201, 0.05387044,\n",
              "        0.05519676, 0.05555844, 0.0609889 , 0.05641007, 0.05529475,\n",
              "        0.0596869 , 0.05582547, 0.05551028, 0.05748248, 0.05741262]),\n",
              " 'score_time': array([0.00146174, 0.00133634, 0.00128508, 0.00132966, 0.00142384,\n",
              "        0.00148582, 0.00128818, 0.00154138, 0.00150657, 0.0013063 ,\n",
              "        0.00129986, 0.00130534, 0.00127149, 0.00250912, 0.00130749,\n",
              "        0.00130987, 0.00129747, 0.00129676, 0.00128245, 0.00137115]),\n",
              " 'test_score': array([-5838.67245901, -6390.85163301, -6775.01020712, -6297.0008725 ,\n",
              "        -6158.33418228, -6525.17941064, -6444.01587382, -6489.26987129,\n",
              "        -6113.47567017, -6353.14420705, -6828.89634083, -6764.99355994,\n",
              "        -6755.67427883, -6768.92395105, -6840.15064911, -6587.57831494,\n",
              "        -6572.52893374, -6685.67419878, -6793.91110807, -7365.7875368 ])}"
            ]
          },
          "metadata": {
            "tags": []
          },
          "execution_count": 8
        }
      ]
    },
    {
      "cell_type": "code",
      "metadata": {
        "id": "wmad1q24j8Ys",
        "outputId": "4c6e331f-44e7-4f0b-9071-b16f2ffd36ab",
        "colab": {
          "base_uri": "https://localhost:8080/",
          "height": 34
        }
      },
      "source": [
        "media = (-1)*resultados[\"test_score\"].mean()\n",
        "media"
      ],
      "execution_count": 9,
      "outputs": [
        {
          "output_type": "execute_result",
          "data": {
            "text/plain": [
              "6567.453662948976"
            ]
          },
          "metadata": {
            "tags": []
          },
          "execution_count": 9
        }
      ]
    },
    {
      "cell_type": "code",
      "metadata": {
        "id": "mW2xCRInkqAz",
        "outputId": "8cdfd855-3e39-401d-868a-1175e9fdf187",
        "colab": {
          "base_uri": "https://localhost:8080/",
          "height": 34
        }
      },
      "source": [
        "d_p = resultados[\"test_score\"].std()\n",
        "d_p"
      ],
      "execution_count": 10,
      "outputs": [
        {
          "output_type": "execute_result",
          "data": {
            "text/plain": [
              "322.6342184831726"
            ]
          },
          "metadata": {
            "tags": []
          },
          "execution_count": 10
        }
      ]
    },
    {
      "cell_type": "code",
      "metadata": {
        "id": "eclqOMEYlqzD",
        "outputId": "30b8f9b3-3bf4-43d2-d5c1-d05a2c251584",
        "colab": {
          "base_uri": "https://localhost:8080/",
          "height": 34
        }
      },
      "source": [
        "lim_inf = media - (2*d_p)\n",
        "lim_sup = media + (2*d_p)\n",
        "print(f\"Intervalo de confianca: [{lim_inf}, {lim_sup}]\")"
      ],
      "execution_count": 11,
      "outputs": [
        {
          "output_type": "stream",
          "text": [
            "Intervalo de confianca: [5922.18522598263, 7212.722099915321]\n"
          ],
          "name": "stdout"
        }
      ]
    },
    {
      "cell_type": "code",
      "metadata": {
        "id": "VtPE4cqUpMy9"
      },
      "source": [
        "def calcula_mse(resultados):\n",
        "  media = (-1)*resultados[\"test_score\"].mean()\n",
        "  d_p = resultados[\"test_score\"].std()\n",
        "  lim_inf = media - (2*d_p)\n",
        "  lim_sup = media + (2*d_p)\n",
        "  print(f\"Intervalo de confianca: [{lim_inf}, {lim_sup}]\")"
      ],
      "execution_count": 12,
      "outputs": []
    },
    {
      "cell_type": "code",
      "metadata": {
        "id": "neQVtdKnC2gh",
        "outputId": "8dac581a-c26a-4429-c311-6fd52f94316f",
        "colab": {
          "base_uri": "https://localhost:8080/",
          "height": 323
        }
      },
      "source": [
        "from sklearn.model_selection import KFold\n",
        "import numpy as np\n",
        "np.random.seed(seed)\n",
        "partes = KFold(n_splits = 20, shuffle = True)\n",
        "tree_modelo = DecisionTreeRegressor(max_depth = 4)\n",
        "resultados = cross_validate(tree_modelo, x, y, cv = partes, \n",
        "                            scoring = \"neg_mean_squared_error\", return_train_score = True)\n",
        "resultados"
      ],
      "execution_count": 13,
      "outputs": [
        {
          "output_type": "execute_result",
          "data": {
            "text/plain": [
              "{'fit_time': array([0.11609221, 0.11440921, 0.10834837, 0.10344124, 0.10597396,\n",
              "        0.10747766, 0.10771632, 0.10352516, 0.10852647, 0.11089373,\n",
              "        0.10514784, 0.10795259, 0.10501218, 0.10500932, 0.11326814,\n",
              "        0.10607433, 0.11057234, 0.11345148, 0.10402751, 0.10350442]),\n",
              " 'score_time': array([0.00140595, 0.00136948, 0.0014081 , 0.00142407, 0.0015471 ,\n",
              "        0.00136471, 0.00135851, 0.00135684, 0.00140572, 0.00139666,\n",
              "        0.00139499, 0.00137234, 0.00136113, 0.0013752 , 0.00138283,\n",
              "        0.00136828, 0.00137138, 0.00229812, 0.00136065, 0.00138474]),\n",
              " 'test_score': array([-5890.24590853, -5807.24521371, -5632.24698877, -5792.04271836,\n",
              "        -5850.99429365, -5862.87825139, -5634.60162184, -5795.49455116,\n",
              "        -5933.28967158, -5695.09326039, -5866.73301067, -5851.84892822,\n",
              "        -5916.29404544, -6046.06375511, -5797.75396499, -5554.78822407,\n",
              "        -5987.35102837, -5755.87177787, -5768.01980839, -5896.0778468 ]),\n",
              " 'train_score': array([-5761.69108653, -5759.3761656 , -5778.62723099, -5767.93429458,\n",
              "        -5764.60445819, -5771.66041247, -5776.30877696, -5758.08705965,\n",
              "        -5756.58259552, -5771.52915102, -5763.07306556, -5755.95924797,\n",
              "        -5765.75928616, -5749.69281688, -5767.52599221, -5777.28933864,\n",
              "        -5756.85764138, -5769.10267623, -5768.45229467, -5761.48672356])}"
            ]
          },
          "metadata": {
            "tags": []
          },
          "execution_count": 13
        }
      ]
    },
    {
      "cell_type": "code",
      "metadata": {
        "id": "fuHMa7CBuP3R",
        "outputId": "eae84c8b-bee8-4beb-ff29-e6d7ca480d50",
        "colab": {
          "base_uri": "https://localhost:8080/",
          "height": 34
        }
      },
      "source": [
        "calcula_mse(resultados)"
      ],
      "execution_count": 14,
      "outputs": [
        {
          "output_type": "stream",
          "text": [
            "Intervalo de confianca: [5579.199589824724, 6054.293897108613]\n"
          ],
          "name": "stdout"
        }
      ]
    },
    {
      "cell_type": "code",
      "metadata": {
        "id": "c64tVOpwrovN",
        "outputId": "c1a6a2c7-86f0-4e6d-97c8-a897bf8c5881",
        "colab": {
          "base_uri": "https://localhost:8080/",
          "height": 34
        }
      },
      "source": [
        "def tree_regressor(nivel):\n",
        "  seed = 28\n",
        "  np.random.seed(seed)\n",
        "  partes = KFold(n_splits = 10, shuffle = True)\n",
        "  tree_modelo = DecisionTreeRegressor(max_depth = nivel)\n",
        "  resultados = cross_validate(tree_modelo, x, y, cv = partes, \n",
        "                              scoring = \"neg_mean_squared_error\", return_train_score = True)\n",
        "  print(f\"Treino = {(resultados['train_score']*-1).mean()} \\t \\\n",
        "                    Teste = {(resultados['test_score']*-1).mean()}\")\n",
        "tree_regressor(7)"
      ],
      "execution_count": 15,
      "outputs": [
        {
          "output_type": "stream",
          "text": [
            "Treino = 5443.493771783097 \t                     Teste = 5583.160907847721\n"
          ],
          "name": "stdout"
        }
      ]
    },
    {
      "cell_type": "code",
      "metadata": {
        "id": "C2H4XIcQtK7_",
        "outputId": "093bf831-8871-4b37-eae5-2350a89c9569",
        "colab": {
          "base_uri": "https://localhost:8080/",
          "height": 493
        }
      },
      "source": [
        "for j in range(0, 28):\n",
        "  tree_regressor(1 + j)"
      ],
      "execution_count": 16,
      "outputs": [
        {
          "output_type": "stream",
          "text": [
            "Treino = 7844.783628942707 \t                     Teste = 7863.054719881892\n",
            "Treino = 6528.462743144721 \t                     Teste = 6552.615115623267\n",
            "Treino = 6021.461527413556 \t                     Teste = 6054.589076225231\n",
            "Treino = 5765.2211198869945 \t                     Teste = 5808.877919155504\n",
            "Treino = 5617.853763191265 \t                     Teste = 5693.447343106953\n",
            "Treino = 5518.231373137913 \t                     Teste = 5632.347913217409\n",
            "Treino = 5443.493771783097 \t                     Teste = 5583.160907847721\n",
            "Treino = 5374.117813883334 \t                     Teste = 5604.750604424957\n",
            "Treino = 5282.347971408868 \t                     Teste = 5689.318324462696\n",
            "Treino = 5160.044420437416 \t                     Teste = 5822.582062731699\n",
            "Treino = 4996.259970200201 \t                     Teste = 5999.069934685354\n",
            "Treino = 4791.054182791575 \t                     Teste = 6202.322970404408\n",
            "Treino = 4545.150942141053 \t                     Teste = 6465.455322807614\n",
            "Treino = 4264.60919730837 \t                     Teste = 6766.903920368609\n",
            "Treino = 3956.0147806075897 \t                     Teste = 7107.248738108867\n",
            "Treino = 3627.9797767464433 \t                     Teste = 7469.37501009226\n",
            "Treino = 3284.107710889458 \t                     Teste = 7851.982774195005\n",
            "Treino = 2945.0128220726046 \t                     Teste = 8219.506192425899\n",
            "Treino = 2609.698440272626 \t                     Teste = 8577.963903438786\n",
            "Treino = 2286.3025147380176 \t                     Teste = 8959.30989404489\n",
            "Treino = 1985.8680878545008 \t                     Teste = 9312.52316000448\n",
            "Treino = 1709.2142482181207 \t                     Teste = 9587.157933415003\n",
            "Treino = 1460.94846530789 \t                     Teste = 9857.65894026894\n",
            "Treino = 1239.511074108904 \t                     Teste = 10069.852754444242\n",
            "Treino = 1043.4932072771842 \t                     Teste = 10305.26123687307\n",
            "Treino = 873.9279601039956 \t                     Teste = 10465.948983442084\n",
            "Treino = 727.0308793248685 \t                     Teste = 10623.525995678428\n",
            "Treino = 601.0186645944564 \t                     Teste = 10767.79024425455\n"
          ],
          "name": "stdout"
        }
      ]
    },
    {
      "cell_type": "markdown",
      "metadata": {
        "id": "OZ3F7LRETEdt"
      },
      "source": [
        "#A04. Desafio 04: Pesquisar o que é o problema de underfitting. "
      ]
    },
    {
      "cell_type": "markdown",
      "metadata": {
        "id": "bRqNhk6ATNwx"
      },
      "source": [
        "###Overfitting \n",
        "Um cenário de ***overfitting*** ocorre quando, nos dados de treino, o modelo tem um desempenho excelente, porém quando utilizamos os dados de teste o resultado é ruim. Podemos entender que, neste caso, o modelo aprendeu tão bem as relações existentes no treino, que acabou apenas decorando o que deveria ser feito, e ao receber as informações das variáveis preditoras nos dados de teste, o modelo tenta aplicar as mesmas regras decoradas, porém com dados diferentes esta regra não tem validade, e o desempenho é afetado. É comum ouvirmos que neste cenário o modelo treinado não tem capacidade de generalização. \n",
        "\n",
        "###Underfitting\n",
        "Um cenário de ***underfitting*** ocorre quando o desempenho do modelo já é ruim no próprio treinamento. O modelo não consegue encontrar relações entre as variáveis e o teste nem precisa acontecer. Este modelo já pode ser descartado, pois não terá utilidade.\n",
        "\n",
        "##Fonte: https://didatica.tech/underfitting-e-overfitting/"
      ]
    },
    {
      "cell_type": "markdown",
      "metadata": {
        "id": "XSFDQ8_wv7dI"
      },
      "source": [
        "#A05. Desafio 05: Plotar um gráfico para avaliar a relação entre os \"scores\" de treino e os \"scores\" de teste."
      ]
    },
    {
      "cell_type": "code",
      "metadata": {
        "id": "iWbWCB26wdws",
        "outputId": "6479eb2f-55de-4be5-8655-a86b6dccf2a7",
        "colab": {
          "base_uri": "https://localhost:8080/",
          "height": 34
        }
      },
      "source": [
        "def tree_regressor(nivel):\n",
        "  seed = 28\n",
        "  np.random.seed(seed)\n",
        "  partes = KFold(n_splits = 10, shuffle = True)\n",
        "  tree_modelo = DecisionTreeRegressor(max_depth = nivel)\n",
        "  resultados = cross_validate(tree_modelo, x, y, cv = partes, \n",
        "                              scoring = \"neg_mean_squared_error\", return_train_score = True)\n",
        "  return [(-1)*resultados['train_score'].mean(), (-1)*resultados['test_score'].mean()]\n",
        "tree_regressor(4)"
      ],
      "execution_count": 17,
      "outputs": [
        {
          "output_type": "execute_result",
          "data": {
            "text/plain": [
              "[5765.2211198869945, 5808.877919155504]"
            ]
          },
          "metadata": {
            "tags": []
          },
          "execution_count": 17
        }
      ]
    },
    {
      "cell_type": "code",
      "metadata": {
        "id": "g9ekytqbva-u",
        "outputId": "6fb47dee-7f5e-4759-81e1-6d395248a895",
        "colab": {
          "base_uri": "https://localhost:8080/",
          "height": 575
        }
      },
      "source": [
        "tst_scr = []; tr_scr = []\n",
        "for j in range(0, 28):\n",
        "  res = tree_regressor(1 + j)\n",
        "  tr_scr.append(res[0])\n",
        "  tst_scr.append(res[1])\n",
        "plt.figure(figsize = (9, 9)); plt.grid(True)\n",
        "sns.scatterplot(x = tst_scr, y = tr_scr)\n",
        "plt.title(\"TRAIN SCORING vs. TEST SCORING\", fontsize = 20)"
      ],
      "execution_count": 18,
      "outputs": [
        {
          "output_type": "execute_result",
          "data": {
            "text/plain": [
              "Text(0.5, 1.0, 'TRAIN SCORING vs. TEST SCORING')"
            ]
          },
          "metadata": {
            "tags": []
          },
          "execution_count": 18
        },
        {
          "output_type": "display_data",
          "data": {
            "image/png": "[encoded data removed]",
            "text/plain": [
              "<Figure size 648x648 with 1 Axes>"
            ]
          },
          "metadata": {
            "tags": [],
            "needs_background": "light"
          }
        }
      ]
    }
  ]
}